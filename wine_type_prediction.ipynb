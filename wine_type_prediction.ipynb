{
  "nbformat": 4,
  "nbformat_minor": 0,
  "metadata": {
    "colab": {
      "name": "Untitled0.ipynb",
      "provenance": [],
      "collapsed_sections": [],
      "authorship_tag": "ABX9TyOo9nQJccFqFyUQusO5AMkN",
      "include_colab_link": true
    },
    "kernelspec": {
      "name": "python3",
      "display_name": "Python 3"
    }
  },
  "cells": [
    {
      "cell_type": "markdown",
      "metadata": {
        "id": "view-in-github",
        "colab_type": "text"
      },
      "source": [
        "<a href=\"https://colab.research.google.com/github/sahilm11/sayana/blob/master/wine_type_prediction.ipynb\" target=\"_parent\"><img src=\"https://colab.research.google.com/assets/colab-badge.svg\" alt=\"Open In Colab\"/></a>"
      ]
    },
    {
      "cell_type": "code",
      "metadata": {
        "id": "gR0-gj6fwJDO",
        "colab_type": "code",
        "colab": {}
      },
      "source": [
        "import numpy as np\n",
        "import tensorflow as tf\n",
        "from tensorflow import keras\n",
        "from sklearn.model_selection import train_test_split\n",
        "from sklearn.preprocessing import StandardScaler\n"
      ],
      "execution_count": 0,
      "outputs": []
    },
    {
      "cell_type": "code",
      "metadata": {
        "id": "kIpgEna7wVzf",
        "colab_type": "code",
        "colab": {}
      },
      "source": [
        "import pandas as pd"
      ],
      "execution_count": 0,
      "outputs": []
    },
    {
      "cell_type": "code",
      "metadata": {
        "id": "brbOj5MZGOZW",
        "colab_type": "code",
        "colab": {}
      },
      "source": [
        "#white wine data\n",
        "white = pd.read_csv(\"http://archive.ics.uci.edu/ml/machine-learning-databases/wine-quality/winequality-white.csv\", sep=';')"
      ],
      "execution_count": 0,
      "outputs": []
    },
    {
      "cell_type": "code",
      "metadata": {
        "id": "DlcRn2f9Gd9l",
        "colab_type": "code",
        "colab": {}
      },
      "source": [
        "#red wine data\n",
        "red = pd.read_csv(\"http://archive.ics.uci.edu/ml/machine-learning-databases/wine-quality/winequality-red.csv\", sep=';')"
      ],
      "execution_count": 0,
      "outputs": []
    },
    {
      "cell_type": "code",
      "metadata": {
        "id": "SZrjQvb1Givj",
        "colab_type": "code",
        "colab": {
          "base_uri": "https://localhost:8080/",
          "height": 301
        },
        "outputId": "c935efa7-1060-4d12-d164-836a90258721"
      },
      "source": [
        "red.describe()"
      ],
      "execution_count": 5,
      "outputs": [
        {
          "output_type": "execute_result",
          "data": {
            "text/html": [
              "<div>\n",
              "<style scoped>\n",
              "    .dataframe tbody tr th:only-of-type {\n",
              "        vertical-align: middle;\n",
              "    }\n",
              "\n",
              "    .dataframe tbody tr th {\n",
              "        vertical-align: top;\n",
              "    }\n",
              "\n",
              "    .dataframe thead th {\n",
              "        text-align: right;\n",
              "    }\n",
              "</style>\n",
              "<table border=\"1\" class=\"dataframe\">\n",
              "  <thead>\n",
              "    <tr style=\"text-align: right;\">\n",
              "      <th></th>\n",
              "      <th>fixed acidity</th>\n",
              "      <th>volatile acidity</th>\n",
              "      <th>citric acid</th>\n",
              "      <th>residual sugar</th>\n",
              "      <th>chlorides</th>\n",
              "      <th>free sulfur dioxide</th>\n",
              "      <th>total sulfur dioxide</th>\n",
              "      <th>density</th>\n",
              "      <th>pH</th>\n",
              "      <th>sulphates</th>\n",
              "      <th>alcohol</th>\n",
              "      <th>quality</th>\n",
              "    </tr>\n",
              "  </thead>\n",
              "  <tbody>\n",
              "    <tr>\n",
              "      <th>count</th>\n",
              "      <td>1599.000000</td>\n",
              "      <td>1599.000000</td>\n",
              "      <td>1599.000000</td>\n",
              "      <td>1599.000000</td>\n",
              "      <td>1599.000000</td>\n",
              "      <td>1599.000000</td>\n",
              "      <td>1599.000000</td>\n",
              "      <td>1599.000000</td>\n",
              "      <td>1599.000000</td>\n",
              "      <td>1599.000000</td>\n",
              "      <td>1599.000000</td>\n",
              "      <td>1599.000000</td>\n",
              "    </tr>\n",
              "    <tr>\n",
              "      <th>mean</th>\n",
              "      <td>8.319637</td>\n",
              "      <td>0.527821</td>\n",
              "      <td>0.270976</td>\n",
              "      <td>2.538806</td>\n",
              "      <td>0.087467</td>\n",
              "      <td>15.874922</td>\n",
              "      <td>46.467792</td>\n",
              "      <td>0.996747</td>\n",
              "      <td>3.311113</td>\n",
              "      <td>0.658149</td>\n",
              "      <td>10.422983</td>\n",
              "      <td>5.636023</td>\n",
              "    </tr>\n",
              "    <tr>\n",
              "      <th>std</th>\n",
              "      <td>1.741096</td>\n",
              "      <td>0.179060</td>\n",
              "      <td>0.194801</td>\n",
              "      <td>1.409928</td>\n",
              "      <td>0.047065</td>\n",
              "      <td>10.460157</td>\n",
              "      <td>32.895324</td>\n",
              "      <td>0.001887</td>\n",
              "      <td>0.154386</td>\n",
              "      <td>0.169507</td>\n",
              "      <td>1.065668</td>\n",
              "      <td>0.807569</td>\n",
              "    </tr>\n",
              "    <tr>\n",
              "      <th>min</th>\n",
              "      <td>4.600000</td>\n",
              "      <td>0.120000</td>\n",
              "      <td>0.000000</td>\n",
              "      <td>0.900000</td>\n",
              "      <td>0.012000</td>\n",
              "      <td>1.000000</td>\n",
              "      <td>6.000000</td>\n",
              "      <td>0.990070</td>\n",
              "      <td>2.740000</td>\n",
              "      <td>0.330000</td>\n",
              "      <td>8.400000</td>\n",
              "      <td>3.000000</td>\n",
              "    </tr>\n",
              "    <tr>\n",
              "      <th>25%</th>\n",
              "      <td>7.100000</td>\n",
              "      <td>0.390000</td>\n",
              "      <td>0.090000</td>\n",
              "      <td>1.900000</td>\n",
              "      <td>0.070000</td>\n",
              "      <td>7.000000</td>\n",
              "      <td>22.000000</td>\n",
              "      <td>0.995600</td>\n",
              "      <td>3.210000</td>\n",
              "      <td>0.550000</td>\n",
              "      <td>9.500000</td>\n",
              "      <td>5.000000</td>\n",
              "    </tr>\n",
              "    <tr>\n",
              "      <th>50%</th>\n",
              "      <td>7.900000</td>\n",
              "      <td>0.520000</td>\n",
              "      <td>0.260000</td>\n",
              "      <td>2.200000</td>\n",
              "      <td>0.079000</td>\n",
              "      <td>14.000000</td>\n",
              "      <td>38.000000</td>\n",
              "      <td>0.996750</td>\n",
              "      <td>3.310000</td>\n",
              "      <td>0.620000</td>\n",
              "      <td>10.200000</td>\n",
              "      <td>6.000000</td>\n",
              "    </tr>\n",
              "    <tr>\n",
              "      <th>75%</th>\n",
              "      <td>9.200000</td>\n",
              "      <td>0.640000</td>\n",
              "      <td>0.420000</td>\n",
              "      <td>2.600000</td>\n",
              "      <td>0.090000</td>\n",
              "      <td>21.000000</td>\n",
              "      <td>62.000000</td>\n",
              "      <td>0.997835</td>\n",
              "      <td>3.400000</td>\n",
              "      <td>0.730000</td>\n",
              "      <td>11.100000</td>\n",
              "      <td>6.000000</td>\n",
              "    </tr>\n",
              "    <tr>\n",
              "      <th>max</th>\n",
              "      <td>15.900000</td>\n",
              "      <td>1.580000</td>\n",
              "      <td>1.000000</td>\n",
              "      <td>15.500000</td>\n",
              "      <td>0.611000</td>\n",
              "      <td>72.000000</td>\n",
              "      <td>289.000000</td>\n",
              "      <td>1.003690</td>\n",
              "      <td>4.010000</td>\n",
              "      <td>2.000000</td>\n",
              "      <td>14.900000</td>\n",
              "      <td>8.000000</td>\n",
              "    </tr>\n",
              "  </tbody>\n",
              "</table>\n",
              "</div>"
            ],
            "text/plain": [
              "       fixed acidity  volatile acidity  ...      alcohol      quality\n",
              "count    1599.000000       1599.000000  ...  1599.000000  1599.000000\n",
              "mean        8.319637          0.527821  ...    10.422983     5.636023\n",
              "std         1.741096          0.179060  ...     1.065668     0.807569\n",
              "min         4.600000          0.120000  ...     8.400000     3.000000\n",
              "25%         7.100000          0.390000  ...     9.500000     5.000000\n",
              "50%         7.900000          0.520000  ...    10.200000     6.000000\n",
              "75%         9.200000          0.640000  ...    11.100000     6.000000\n",
              "max        15.900000          1.580000  ...    14.900000     8.000000\n",
              "\n",
              "[8 rows x 12 columns]"
            ]
          },
          "metadata": {
            "tags": []
          },
          "execution_count": 5
        }
      ]
    },
    {
      "cell_type": "code",
      "metadata": {
        "id": "3bENt_LCHHVA",
        "colab_type": "code",
        "colab": {}
      },
      "source": [
        "white['type']=0"
      ],
      "execution_count": 0,
      "outputs": []
    },
    {
      "cell_type": "code",
      "metadata": {
        "id": "vXYlhMVXIlZH",
        "colab_type": "code",
        "colab": {}
      },
      "source": [
        "red['type']=1"
      ],
      "execution_count": 0,
      "outputs": []
    },
    {
      "cell_type": "code",
      "metadata": {
        "id": "uA-InyxmIobA",
        "colab_type": "code",
        "colab": {}
      },
      "source": [
        "wines=white.append(red, ignore_index=True)"
      ],
      "execution_count": 0,
      "outputs": []
    },
    {
      "cell_type": "code",
      "metadata": {
        "id": "6T_s6ZSoI0Ur",
        "colab_type": "code",
        "colab": {}
      },
      "source": [
        "winesFeatures=wines.loc[:,wines.columns != 'type']"
      ],
      "execution_count": 0,
      "outputs": []
    },
    {
      "cell_type": "code",
      "metadata": {
        "id": "qYaIgLH6LcuD",
        "colab_type": "code",
        "colab": {}
      },
      "source": [
        "winesTarget=wines.iloc[:,-1]"
      ],
      "execution_count": 0,
      "outputs": []
    },
    {
      "cell_type": "code",
      "metadata": {
        "id": "mA4UiBO0z7E3",
        "colab_type": "code",
        "colab": {
          "base_uri": "https://localhost:8080/",
          "height": 228
        },
        "outputId": "a8820b09-eeba-40ac-fe51-ae371cbca9ea"
      },
      "source": [
        "wines.iloc[:,-1]"
      ],
      "execution_count": 11,
      "outputs": [
        {
          "output_type": "execute_result",
          "data": {
            "text/plain": [
              "0       0\n",
              "1       0\n",
              "2       0\n",
              "3       0\n",
              "4       0\n",
              "       ..\n",
              "6492    1\n",
              "6493    1\n",
              "6494    1\n",
              "6495    1\n",
              "6496    1\n",
              "Name: type, Length: 6497, dtype: int64"
            ]
          },
          "metadata": {
            "tags": []
          },
          "execution_count": 11
        }
      ]
    },
    {
      "cell_type": "code",
      "metadata": {
        "id": "C7ScumavLxbW",
        "colab_type": "code",
        "colab": {
          "base_uri": "https://localhost:8080/",
          "height": 175
        },
        "outputId": "2b66dc35-f214-4f16-d842-f3b731370d09"
      },
      "source": [
        "winesTarget.describe()"
      ],
      "execution_count": 12,
      "outputs": [
        {
          "output_type": "execute_result",
          "data": {
            "text/plain": [
              "count    6497.000000\n",
              "mean        0.246114\n",
              "std         0.430779\n",
              "min         0.000000\n",
              "25%         0.000000\n",
              "50%         0.000000\n",
              "75%         0.000000\n",
              "max         1.000000\n",
              "Name: type, dtype: float64"
            ]
          },
          "metadata": {
            "tags": []
          },
          "execution_count": 12
        }
      ]
    },
    {
      "cell_type": "code",
      "metadata": {
        "id": "yY1Me9b5O8bL",
        "colab_type": "code",
        "colab": {}
      },
      "source": [
        "x=winesFeatures"
      ],
      "execution_count": 0,
      "outputs": []
    },
    {
      "cell_type": "code",
      "metadata": {
        "id": "6-QM8FscEv13",
        "colab_type": "code",
        "colab": {}
      },
      "source": [
        "y=np.ravel(wines.type)"
      ],
      "execution_count": 0,
      "outputs": []
    },
    {
      "cell_type": "code",
      "metadata": {
        "id": "olrjD00zEz6z",
        "colab_type": "code",
        "colab": {}
      },
      "source": [
        "x_train, x_test, y_train, y_test=train_test_split(x,y,test_size=0.33, random_state=42)"
      ],
      "execution_count": 0,
      "outputs": []
    },
    {
      "cell_type": "code",
      "metadata": {
        "id": "3byDl-XUFiYs",
        "colab_type": "code",
        "colab": {}
      },
      "source": [
        "scaler = StandardScaler().fit(x_train)"
      ],
      "execution_count": 0,
      "outputs": []
    },
    {
      "cell_type": "code",
      "metadata": {
        "id": "g0TvmmtcmWwg",
        "colab_type": "code",
        "colab": {}
      },
      "source": [
        "x_train = scaler.transform(x_train)"
      ],
      "execution_count": 0,
      "outputs": []
    },
    {
      "cell_type": "code",
      "metadata": {
        "id": "8Pj-4rIVmY97",
        "colab_type": "code",
        "colab": {}
      },
      "source": [
        "x_test = scaler.transform(x_test)"
      ],
      "execution_count": 0,
      "outputs": []
    },
    {
      "cell_type": "code",
      "metadata": {
        "id": "dtTSxLtgmgnL",
        "colab_type": "code",
        "colab": {
          "base_uri": "https://localhost:8080/",
          "height": 34
        },
        "outputId": "3eba4529-5273-4f35-da6f-662f38e84624"
      },
      "source": [
        "from  keras.models import Sequential"
      ],
      "execution_count": 19,
      "outputs": [
        {
          "output_type": "stream",
          "text": [
            "Using TensorFlow backend.\n"
          ],
          "name": "stderr"
        }
      ]
    },
    {
      "cell_type": "code",
      "metadata": {
        "id": "YNEJhlLrnnyA",
        "colab_type": "code",
        "colab": {}
      },
      "source": [
        "from keras.layers import Dense"
      ],
      "execution_count": 0,
      "outputs": []
    },
    {
      "cell_type": "code",
      "metadata": {
        "id": "T5xlUk-nnqsS",
        "colab_type": "code",
        "colab": {}
      },
      "source": [
        "model=Sequential()"
      ],
      "execution_count": 0,
      "outputs": []
    },
    {
      "cell_type": "code",
      "metadata": {
        "id": "PzxuCN3knsvD",
        "colab_type": "code",
        "colab": {}
      },
      "source": [
        "model.add(Dense(12, activation='relu', input_shape=(12,)))"
      ],
      "execution_count": 0,
      "outputs": []
    },
    {
      "cell_type": "code",
      "metadata": {
        "id": "5YzktdI3n7M6",
        "colab_type": "code",
        "colab": {}
      },
      "source": [
        "model.add(Dense(8,activation='relu'))"
      ],
      "execution_count": 0,
      "outputs": []
    },
    {
      "cell_type": "code",
      "metadata": {
        "id": "X76ICuOvoBqN",
        "colab_type": "code",
        "colab": {}
      },
      "source": [
        "model.add(Dense(1,activation='sigmoid'))"
      ],
      "execution_count": 0,
      "outputs": []
    },
    {
      "cell_type": "code",
      "metadata": {
        "id": "JenaIynNoHNa",
        "colab_type": "code",
        "colab": {
          "base_uri": "https://localhost:8080/",
          "height": 34
        },
        "outputId": "420aa6c6-36aa-4612-fc99-ee0fc7df0366"
      },
      "source": [
        "model.output_shape"
      ],
      "execution_count": 25,
      "outputs": [
        {
          "output_type": "execute_result",
          "data": {
            "text/plain": [
              "(None, 1)"
            ]
          },
          "metadata": {
            "tags": []
          },
          "execution_count": 25
        }
      ]
    },
    {
      "cell_type": "code",
      "metadata": {
        "id": "kJOh1rV_o5SY",
        "colab_type": "code",
        "colab": {
          "base_uri": "https://localhost:8080/",
          "height": 34
        },
        "outputId": "e0e30a9d-1a2c-4946-fa72-5d0ea6f2eec1"
      },
      "source": [
        "model.summary"
      ],
      "execution_count": 26,
      "outputs": [
        {
          "output_type": "execute_result",
          "data": {
            "text/plain": [
              "<bound method Network.summary of <keras.engine.sequential.Sequential object at 0x7f1ab77e2518>>"
            ]
          },
          "metadata": {
            "tags": []
          },
          "execution_count": 26
        }
      ]
    },
    {
      "cell_type": "code",
      "metadata": {
        "id": "HJ6AeKcko7gU",
        "colab_type": "code",
        "colab": {
          "base_uri": "https://localhost:8080/",
          "height": 1000
        },
        "outputId": "15f72cd6-5e4a-4509-bddf-0b81adf9a861"
      },
      "source": [
        "model.get_config()"
      ],
      "execution_count": 27,
      "outputs": [
        {
          "output_type": "execute_result",
          "data": {
            "text/plain": [
              "{'layers': [{'class_name': 'Dense',\n",
              "   'config': {'activation': 'relu',\n",
              "    'activity_regularizer': None,\n",
              "    'batch_input_shape': (None, 12),\n",
              "    'bias_constraint': None,\n",
              "    'bias_initializer': {'class_name': 'Zeros', 'config': {}},\n",
              "    'bias_regularizer': None,\n",
              "    'dtype': 'float32',\n",
              "    'kernel_constraint': None,\n",
              "    'kernel_initializer': {'class_name': 'VarianceScaling',\n",
              "     'config': {'distribution': 'uniform',\n",
              "      'mode': 'fan_avg',\n",
              "      'scale': 1.0,\n",
              "      'seed': None}},\n",
              "    'kernel_regularizer': None,\n",
              "    'name': 'dense_1',\n",
              "    'trainable': True,\n",
              "    'units': 12,\n",
              "    'use_bias': True}},\n",
              "  {'class_name': 'Dense',\n",
              "   'config': {'activation': 'relu',\n",
              "    'activity_regularizer': None,\n",
              "    'bias_constraint': None,\n",
              "    'bias_initializer': {'class_name': 'Zeros', 'config': {}},\n",
              "    'bias_regularizer': None,\n",
              "    'dtype': 'float32',\n",
              "    'kernel_constraint': None,\n",
              "    'kernel_initializer': {'class_name': 'VarianceScaling',\n",
              "     'config': {'distribution': 'uniform',\n",
              "      'mode': 'fan_avg',\n",
              "      'scale': 1.0,\n",
              "      'seed': None}},\n",
              "    'kernel_regularizer': None,\n",
              "    'name': 'dense_2',\n",
              "    'trainable': True,\n",
              "    'units': 8,\n",
              "    'use_bias': True}},\n",
              "  {'class_name': 'Dense',\n",
              "   'config': {'activation': 'sigmoid',\n",
              "    'activity_regularizer': None,\n",
              "    'bias_constraint': None,\n",
              "    'bias_initializer': {'class_name': 'Zeros', 'config': {}},\n",
              "    'bias_regularizer': None,\n",
              "    'dtype': 'float32',\n",
              "    'kernel_constraint': None,\n",
              "    'kernel_initializer': {'class_name': 'VarianceScaling',\n",
              "     'config': {'distribution': 'uniform',\n",
              "      'mode': 'fan_avg',\n",
              "      'scale': 1.0,\n",
              "      'seed': None}},\n",
              "    'kernel_regularizer': None,\n",
              "    'name': 'dense_3',\n",
              "    'trainable': True,\n",
              "    'units': 1,\n",
              "    'use_bias': True}}],\n",
              " 'name': 'sequential_1'}"
            ]
          },
          "metadata": {
            "tags": []
          },
          "execution_count": 27
        }
      ]
    },
    {
      "cell_type": "code",
      "metadata": {
        "id": "JxAPQRv7o-Tw",
        "colab_type": "code",
        "colab": {
          "base_uri": "https://localhost:8080/",
          "height": 1000
        },
        "outputId": "bc065717-3a1b-464f-e92b-06e1c24b236b"
      },
      "source": [
        "model.get_weights()"
      ],
      "execution_count": 28,
      "outputs": [
        {
          "output_type": "execute_result",
          "data": {
            "text/plain": [
              "[array([[-0.15442085,  0.19295812, -0.00166142, -0.13877094, -0.1393249 ,\n",
              "          0.46470678,  0.17304075,  0.11547482,  0.10406876,  0.39162016,\n",
              "          0.22684312,  0.0636512 ],\n",
              "        [ 0.13881576,  0.2448169 , -0.39762795, -0.11163449,  0.31034172,\n",
              "          0.0594691 ,  0.15658987,  0.24012363,  0.23708272, -0.42676258,\n",
              "          0.2500701 ,  0.09148371],\n",
              "        [ 0.08458483, -0.41736197,  0.15223908, -0.04213417,  0.19831395,\n",
              "         -0.21639168, -0.44255865,  0.37818074,  0.412771  ,  0.06807756,\n",
              "          0.4316517 , -0.3406018 ],\n",
              "        [ 0.11707675, -0.1480658 ,  0.07334054,  0.49883866, -0.23038149,\n",
              "          0.25586092,  0.41182697, -0.49453974, -0.08669555, -0.0723418 ,\n",
              "         -0.4520992 , -0.47261858],\n",
              "        [ 0.10899687,  0.11820531, -0.28517568, -0.03724933, -0.48559856,\n",
              "          0.15131688, -0.14592922, -0.4985664 , -0.2633922 , -0.02354765,\n",
              "         -0.3917699 , -0.10757339],\n",
              "        [ 0.17813516,  0.4096049 , -0.35092247,  0.12886631,  0.14281595,\n",
              "         -0.3196876 ,  0.3193066 , -0.39985943, -0.22003186, -0.28456652,\n",
              "         -0.01441717, -0.25318623],\n",
              "        [ 0.00456476, -0.35224855, -0.38300264, -0.41989696, -0.25324273,\n",
              "         -0.06243372,  0.0455811 , -0.46591306,  0.08099973,  0.2599709 ,\n",
              "          0.07013559, -0.21527886],\n",
              "        [-0.09650075, -0.07119739, -0.02619612,  0.00135636,  0.0992806 ,\n",
              "          0.38623106,  0.24353135,  0.15952885, -0.12073147,  0.49891222,\n",
              "         -0.01086974,  0.12683296],\n",
              "        [ 0.34824312, -0.4076084 ,  0.17570984, -0.31279075,  0.37306416,\n",
              "         -0.05849969,  0.30899775,  0.39004266,  0.08683825,  0.00255406,\n",
              "          0.00254321, -0.29415   ],\n",
              "        [-0.33397925, -0.3881042 , -0.4152162 ,  0.04603481, -0.49418688,\n",
              "          0.48858678,  0.06335437,  0.22096682, -0.04814529, -0.40659356,\n",
              "         -0.46163285, -0.41523075],\n",
              "        [ 0.3248564 ,  0.14007008, -0.24765348, -0.1788336 ,  0.00498986,\n",
              "          0.13747227, -0.44950593,  0.27015316, -0.42868888, -0.00642443,\n",
              "         -0.3240695 ,  0.3710531 ],\n",
              "        [-0.27368307,  0.4127506 , -0.4977914 , -0.35244715, -0.21392143,\n",
              "          0.2768283 , -0.05892301,  0.10512292, -0.16273618,  0.3140024 ,\n",
              "         -0.26437855, -0.09635592]], dtype=float32),\n",
              " array([0., 0., 0., 0., 0., 0., 0., 0., 0., 0., 0., 0.], dtype=float32),\n",
              " array([[ 0.15306193, -0.18186441, -0.49087024,  0.23550415, -0.53226995,\n",
              "         -0.13707441,  0.0266906 ,  0.3940761 ],\n",
              "        [ 0.43622863,  0.32153124, -0.41368717, -0.30890828,  0.35130513,\n",
              "         -0.36331028,  0.33662206,  0.17691869],\n",
              "        [-0.38237548,  0.3098002 , -0.3652559 , -0.04176271,  0.12178576,\n",
              "         -0.10836455,  0.18730313,  0.3463586 ],\n",
              "        [-0.21795231,  0.08672023, -0.30699533, -0.13778535,  0.52544904,\n",
              "          0.46889186, -0.52673775,  0.42539513],\n",
              "        [ 0.09852624,  0.2992174 ,  0.29524285, -0.28519717, -0.5146199 ,\n",
              "         -0.14649445, -0.02698117,  0.28878427],\n",
              "        [ 0.42640913, -0.16624498, -0.38490537, -0.39566928,  0.21037787,\n",
              "          0.30721378, -0.0378468 , -0.08340201],\n",
              "        [ 0.40914625,  0.4555987 , -0.41899738, -0.24347767, -0.14555085,\n",
              "         -0.32273185, -0.4590067 ,  0.5431348 ],\n",
              "        [ 0.5190042 ,  0.08071947, -0.15921196, -0.05290076, -0.39078963,\n",
              "         -0.18345743, -0.39981934,  0.21954942],\n",
              "        [ 0.08530688, -0.3838488 , -0.19409835,  0.18201745, -0.12535512,\n",
              "         -0.52813894, -0.5475305 ,  0.03724831],\n",
              "        [ 0.30751216,  0.26382512, -0.01889282,  0.3111326 ,  0.52446234,\n",
              "         -0.13900241,  0.22046769,  0.21725959],\n",
              "        [ 0.47691822, -0.20776704,  0.3959694 ,  0.4503494 , -0.19969165,\n",
              "         -0.27607983,  0.46797836, -0.36348695],\n",
              "        [ 0.01164854, -0.37146023,  0.53522336, -0.13555843, -0.4474219 ,\n",
              "         -0.31409562, -0.00925612, -0.01125103]], dtype=float32),\n",
              " array([0., 0., 0., 0., 0., 0., 0., 0.], dtype=float32),\n",
              " array([[-0.49826005],\n",
              "        [ 0.51495576],\n",
              "        [ 0.6345757 ],\n",
              "        [-0.60407805],\n",
              "        [ 0.584123  ],\n",
              "        [-0.6289737 ],\n",
              "        [ 0.7564807 ],\n",
              "        [-0.22959429]], dtype=float32),\n",
              " array([0.], dtype=float32)]"
            ]
          },
          "metadata": {
            "tags": []
          },
          "execution_count": 28
        }
      ]
    },
    {
      "cell_type": "code",
      "metadata": {
        "id": "kWo0vLolpAhS",
        "colab_type": "code",
        "colab": {}
      },
      "source": [
        "model.compile(loss='binary_crossentropy', optimizer='adam', metrics=['accuracy'])"
      ],
      "execution_count": 0,
      "outputs": []
    },
    {
      "cell_type": "code",
      "metadata": {
        "id": "Nv65h4QnpbZK",
        "colab_type": "code",
        "colab": {
          "base_uri": "https://localhost:8080/",
          "height": 738
        },
        "outputId": "bc2d7ee2-9f86-4092-87c3-bcbb3dc3c5c9"
      },
      "source": [
        "model.fit(x_train, y_train, epochs=20, batch_size=1, verbose=1)"
      ],
      "execution_count": 30,
      "outputs": [
        {
          "output_type": "stream",
          "text": [
            "Epoch 1/20\n",
            "4352/4352 [==============================] - 5s 1ms/step - loss: 0.1154 - accuracy: 0.9614\n",
            "Epoch 2/20\n",
            "4352/4352 [==============================] - 5s 1ms/step - loss: 0.0246 - accuracy: 0.9956\n",
            "Epoch 3/20\n",
            "4352/4352 [==============================] - 5s 1ms/step - loss: 0.0209 - accuracy: 0.9961\n",
            "Epoch 4/20\n",
            "4352/4352 [==============================] - 5s 1ms/step - loss: 0.0171 - accuracy: 0.9961\n",
            "Epoch 5/20\n",
            "4352/4352 [==============================] - 5s 1ms/step - loss: 0.0163 - accuracy: 0.9966\n",
            "Epoch 6/20\n",
            "4352/4352 [==============================] - 5s 1ms/step - loss: 0.0152 - accuracy: 0.9968\n",
            "Epoch 7/20\n",
            "4352/4352 [==============================] - 5s 1ms/step - loss: 0.0151 - accuracy: 0.9970\n",
            "Epoch 8/20\n",
            "4352/4352 [==============================] - 5s 1ms/step - loss: 0.0136 - accuracy: 0.9972\n",
            "Epoch 9/20\n",
            "4352/4352 [==============================] - 5s 1ms/step - loss: 0.0133 - accuracy: 0.9972\n",
            "Epoch 10/20\n",
            "4352/4352 [==============================] - 5s 1ms/step - loss: 0.0132 - accuracy: 0.9972\n",
            "Epoch 11/20\n",
            "4352/4352 [==============================] - 5s 1ms/step - loss: 0.0123 - accuracy: 0.9979\n",
            "Epoch 12/20\n",
            "4352/4352 [==============================] - 5s 1ms/step - loss: 0.0115 - accuracy: 0.9975\n",
            "Epoch 13/20\n",
            "4352/4352 [==============================] - 5s 1ms/step - loss: 0.0120 - accuracy: 0.9972\n",
            "Epoch 14/20\n",
            "4352/4352 [==============================] - 5s 1ms/step - loss: 0.0119 - accuracy: 0.9970\n",
            "Epoch 15/20\n",
            "4352/4352 [==============================] - 5s 1ms/step - loss: 0.0105 - accuracy: 0.9975\n",
            "Epoch 16/20\n",
            "4352/4352 [==============================] - 5s 1ms/step - loss: 0.0107 - accuracy: 0.9972\n",
            "Epoch 17/20\n",
            "4352/4352 [==============================] - 5s 1ms/step - loss: 0.0105 - accuracy: 0.9972\n",
            "Epoch 18/20\n",
            "4352/4352 [==============================] - 5s 1ms/step - loss: 0.0105 - accuracy: 0.9977\n",
            "Epoch 19/20\n",
            "4352/4352 [==============================] - 5s 1ms/step - loss: 0.0099 - accuracy: 0.9977\n",
            "Epoch 20/20\n",
            "4352/4352 [==============================] - 5s 1ms/step - loss: 0.0119 - accuracy: 0.9970\n"
          ],
          "name": "stdout"
        },
        {
          "output_type": "execute_result",
          "data": {
            "text/plain": [
              "<keras.callbacks.callbacks.History at 0x7f1ab13176d8>"
            ]
          },
          "metadata": {
            "tags": []
          },
          "execution_count": 30
        }
      ]
    },
    {
      "cell_type": "code",
      "metadata": {
        "id": "ZPXKFOPIpnks",
        "colab_type": "code",
        "colab": {}
      },
      "source": [
        "y_pred=model.predict(x_test)"
      ],
      "execution_count": 0,
      "outputs": []
    },
    {
      "cell_type": "code",
      "metadata": {
        "id": "outGwoDgwX0Y",
        "colab_type": "code",
        "colab": {
          "base_uri": "https://localhost:8080/",
          "height": 105
        },
        "outputId": "c5a37d50-564c-45eb-b0e3-43c6deae1640"
      },
      "source": [
        "y_pred[:5]"
      ],
      "execution_count": 32,
      "outputs": [
        {
          "output_type": "execute_result",
          "data": {
            "text/plain": [
              "array([[1.6839802e-02],\n",
              "       [1.3715029e-04],\n",
              "       [8.3579891e-07],\n",
              "       [5.8212134e-08],\n",
              "       [2.2968958e-07]], dtype=float32)"
            ]
          },
          "metadata": {
            "tags": []
          },
          "execution_count": 32
        }
      ]
    },
    {
      "cell_type": "code",
      "metadata": {
        "id": "batnnnMIwaSl",
        "colab_type": "code",
        "colab": {
          "base_uri": "https://localhost:8080/",
          "height": 34
        },
        "outputId": "671780e0-7952-4f05-d0f5-4057f8defa6e"
      },
      "source": [
        "y_test[:5]"
      ],
      "execution_count": 33,
      "outputs": [
        {
          "output_type": "execute_result",
          "data": {
            "text/plain": [
              "array([0, 0, 0, 0, 0])"
            ]
          },
          "metadata": {
            "tags": []
          },
          "execution_count": 33
        }
      ]
    },
    {
      "cell_type": "code",
      "metadata": {
        "id": "daOeQp-dwnPM",
        "colab_type": "code",
        "colab": {}
      },
      "source": [
        "y_pred1=np.round(y_pred)"
      ],
      "execution_count": 0,
      "outputs": []
    },
    {
      "cell_type": "code",
      "metadata": {
        "id": "sH9L8457xM6I",
        "colab_type": "code",
        "colab": {
          "base_uri": "https://localhost:8080/",
          "height": 140
        },
        "outputId": "f3b86a97-1b03-47aa-f07d-1ba00162ea8d"
      },
      "source": [
        "y_pred1"
      ],
      "execution_count": 35,
      "outputs": [
        {
          "output_type": "execute_result",
          "data": {
            "text/plain": [
              "array([[0],\n",
              "       [0],\n",
              "       [0],\n",
              "       ...,\n",
              "       [0],\n",
              "       [0],\n",
              "       [0]])"
            ]
          },
          "metadata": {
            "tags": []
          },
          "execution_count": 35
        }
      ]
    },
    {
      "cell_type": "code",
      "metadata": {
        "id": "EDB1TYUQxPpv",
        "colab_type": "code",
        "colab": {
          "base_uri": "https://localhost:8080/",
          "height": 34
        },
        "outputId": "b9bccab7-fb54-4dba-c0cc-c4045854e3b4"
      },
      "source": [
        "score=model.evaluate(x_test, y_test, verbose=1)"
      ],
      "execution_count": 36,
      "outputs": [
        {
          "output_type": "stream",
          "text": [
            "2145/2145 [==============================] - 0s 31us/step\n"
          ],
          "name": "stdout"
        }
      ]
    },
    {
      "cell_type": "code",
      "metadata": {
        "id": "6wv9XP8rxWht",
        "colab_type": "code",
        "colab": {
          "base_uri": "https://localhost:8080/",
          "height": 34
        },
        "outputId": "76479679-5ecb-4aa9-876b-246c43768977"
      },
      "source": [
        "print(score)"
      ],
      "execution_count": 37,
      "outputs": [
        {
          "output_type": "stream",
          "text": [
            "[0.05153430737393904, 0.9953380227088928]\n"
          ],
          "name": "stdout"
        }
      ]
    },
    {
      "cell_type": "code",
      "metadata": {
        "id": "3T9tqXOfx48f",
        "colab_type": "code",
        "colab": {}
      },
      "source": [
        "from sklearn.metrics import confusion_matrix, precision_score, recall_score, f1_score, cohen_kappa_score\n"
      ],
      "execution_count": 0,
      "outputs": []
    },
    {
      "cell_type": "code",
      "metadata": {
        "id": "4KYEIdjeyKZH",
        "colab_type": "code",
        "colab": {
          "base_uri": "https://localhost:8080/",
          "height": 52
        },
        "outputId": "df3a40cd-9e16-4d8b-9b14-167ccb91791b"
      },
      "source": [
        "confusion_matrix(y_test, y_pred1)"
      ],
      "execution_count": 39,
      "outputs": [
        {
          "output_type": "execute_result",
          "data": {
            "text/plain": [
              "array([[1623,    1],\n",
              "       [  91,  430]])"
            ]
          },
          "metadata": {
            "tags": []
          },
          "execution_count": 39
        }
      ]
    },
    {
      "cell_type": "code",
      "metadata": {
        "id": "I-mg4ibjyMAZ",
        "colab_type": "code",
        "colab": {
          "base_uri": "https://localhost:8080/",
          "height": 34
        },
        "outputId": "2417acf5-5083-437c-a972-e8a2b767c62c"
      },
      "source": [
        "precision_score(y_test, y_pred1)"
      ],
      "execution_count": 40,
      "outputs": [
        {
          "output_type": "execute_result",
          "data": {
            "text/plain": [
              "0.9976798143851509"
            ]
          },
          "metadata": {
            "tags": []
          },
          "execution_count": 40
        }
      ]
    },
    {
      "cell_type": "code",
      "metadata": {
        "id": "gxyZvglnymmx",
        "colab_type": "code",
        "colab": {
          "base_uri": "https://localhost:8080/",
          "height": 34
        },
        "outputId": "83908c38-ad70-4c16-a47e-abf839f1ad8b"
      },
      "source": [
        "recall_score(y_test, y_pred1)"
      ],
      "execution_count": 41,
      "outputs": [
        {
          "output_type": "execute_result",
          "data": {
            "text/plain": [
              "0.8253358925143954"
            ]
          },
          "metadata": {
            "tags": []
          },
          "execution_count": 41
        }
      ]
    },
    {
      "cell_type": "code",
      "metadata": {
        "id": "RYYjPfWAytcX",
        "colab_type": "code",
        "colab": {
          "base_uri": "https://localhost:8080/",
          "height": 34
        },
        "outputId": "ad24f485-f021-4740-dd0a-55017eb216e4"
      },
      "source": [
        "f1_score(y_test,y_pred1)"
      ],
      "execution_count": 42,
      "outputs": [
        {
          "output_type": "execute_result",
          "data": {
            "text/plain": [
              "0.9033613445378152"
            ]
          },
          "metadata": {
            "tags": []
          },
          "execution_count": 42
        }
      ]
    },
    {
      "cell_type": "code",
      "metadata": {
        "id": "jXPY9lPyy2HE",
        "colab_type": "code",
        "colab": {
          "base_uri": "https://localhost:8080/",
          "height": 34
        },
        "outputId": "8cc205a8-2c99-451d-f10d-d5b9fd0853a2"
      },
      "source": [
        "cohen_kappa_score(y_test, y_pred1)"
      ],
      "execution_count": 43,
      "outputs": [
        {
          "output_type": "execute_result",
          "data": {
            "text/plain": [
              "0.8761157056960158"
            ]
          },
          "metadata": {
            "tags": []
          },
          "execution_count": 43
        }
      ]
    },
    {
      "cell_type": "code",
      "metadata": {
        "id": "9WPVuJRZy_B8",
        "colab_type": "code",
        "colab": {
          "base_uri": "https://localhost:8080/",
          "height": 34
        },
        "outputId": "a9baf6a4-6842-4065-e31b-54f7c6fc7d7c"
      },
      "source": [
        "y"
      ],
      "execution_count": 44,
      "outputs": [
        {
          "output_type": "execute_result",
          "data": {
            "text/plain": [
              "array([0, 0, 0, ..., 1, 1, 1])"
            ]
          },
          "metadata": {
            "tags": []
          },
          "execution_count": 44
        }
      ]
    },
    {
      "cell_type": "code",
      "metadata": {
        "id": "P6wVJZVqzH6U",
        "colab_type": "code",
        "colab": {
          "base_uri": "https://localhost:8080/",
          "height": 34
        },
        "outputId": "545efef6-f0c6-4e04-d3e6-3bc40d6401bf"
      },
      "source": [
        "y_test"
      ],
      "execution_count": 45,
      "outputs": [
        {
          "output_type": "execute_result",
          "data": {
            "text/plain": [
              "array([0, 0, 0, ..., 0, 0, 0])"
            ]
          },
          "metadata": {
            "tags": []
          },
          "execution_count": 45
        }
      ]
    },
    {
      "cell_type": "code",
      "metadata": {
        "id": "SpRRdCGLzUYH",
        "colab_type": "code",
        "colab": {
          "base_uri": "https://localhost:8080/",
          "height": 140
        },
        "outputId": "13e038df-d469-4273-f5d7-17d777761376"
      },
      "source": [
        "y_pred"
      ],
      "execution_count": 46,
      "outputs": [
        {
          "output_type": "execute_result",
          "data": {
            "text/plain": [
              "array([[1.6839802e-02],\n",
              "       [1.3715029e-04],\n",
              "       [8.3579891e-07],\n",
              "       ...,\n",
              "       [3.2117948e-06],\n",
              "       [1.3953447e-04],\n",
              "       [8.3651903e-05]], dtype=float32)"
            ]
          },
          "metadata": {
            "tags": []
          },
          "execution_count": 46
        }
      ]
    },
    {
      "cell_type": "code",
      "metadata": {
        "id": "d-WTtaPCzVQ9",
        "colab_type": "code",
        "colab": {
          "base_uri": "https://localhost:8080/",
          "height": 34
        },
        "outputId": "01df2f66-cecd-4397-ddc4-495ff6087add"
      },
      "source": [
        "y"
      ],
      "execution_count": 47,
      "outputs": [
        {
          "output_type": "execute_result",
          "data": {
            "text/plain": [
              "array([0, 0, 0, ..., 1, 1, 1])"
            ]
          },
          "metadata": {
            "tags": []
          },
          "execution_count": 47
        }
      ]
    },
    {
      "cell_type": "code",
      "metadata": {
        "id": "6JKVsVdh0wuL",
        "colab_type": "code",
        "colab": {}
      },
      "source": [
        ""
      ],
      "execution_count": 0,
      "outputs": []
    }
  ]
}